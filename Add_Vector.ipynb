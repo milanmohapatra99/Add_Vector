{
 "cells": [
  {
   "cell_type": "markdown",
   "id": "bac19a0d",
   "metadata": {},
   "source": [
    "Overide the __len__() method on vector display the dimenssion of the vector"
   ]
  },
  {
   "cell_type": "code",
   "execution_count": 2,
   "id": "6d4dcc7c",
   "metadata": {},
   "outputs": [
    {
     "name": "stdout",
     "output_type": "stream",
     "text": [
      "3\n",
      "4\n"
     ]
    }
   ],
   "source": [
    "class Vector:\n",
    "    def __init__ (self,vec):\n",
    "        self.vec = vec\n",
    "    def __str__(self):\n",
    "        str1 = \"\"\n",
    "        index = 0\n",
    "        for i in self.vec:\n",
    "            str1 += f\" {i} a{index} +\"\n",
    "            index += 1\n",
    "        return str1[:-1]\n",
    "    \n",
    "    def __add__(self,vec2):\n",
    "        newlist =[]\n",
    "        for i in range(len(self.vec)):\n",
    "            newlist.append(self.vec[i]+vec2.vec[i])\n",
    "        return Vector(newlist)\n",
    "    def __mul__(self,vec2):\n",
    "        sum = 0\n",
    "        for i in range(len(self.vec)):\n",
    "            sum += self.vec[i] * vec2.vec[i]\n",
    "        return sum \n",
    "    def __len__(self):\n",
    "        return len(self.vec)\n",
    "            \n",
    "v1 = Vector([1, 4, 6])\n",
    "v2 = Vector([1, 6, 9,7])\n",
    "\n",
    "print(len(v1))\n",
    "print(len(v2))\n",
    "\n",
    "        \n",
    "        \n",
    "        "
   ]
  },
  {
   "cell_type": "code",
   "execution_count": null,
   "id": "ad7c2562",
   "metadata": {},
   "outputs": [],
   "source": []
  }
 ],
 "metadata": {
  "kernelspec": {
   "display_name": "Python 3 (ipykernel)",
   "language": "python",
   "name": "python3"
  },
  "language_info": {
   "codemirror_mode": {
    "name": "ipython",
    "version": 3
   },
   "file_extension": ".py",
   "mimetype": "text/x-python",
   "name": "python",
   "nbconvert_exporter": "python",
   "pygments_lexer": "ipython3",
   "version": "3.9.7"
  }
 },
 "nbformat": 4,
 "nbformat_minor": 5
}
